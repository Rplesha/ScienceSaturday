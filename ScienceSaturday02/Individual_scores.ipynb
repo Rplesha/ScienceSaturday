{
 "cells": [
  {
   "cell_type": "code",
   "execution_count": null,
   "metadata": {},
   "outputs": [],
   "source": [
    "#Imports\n",
    "import matplotlib.pyplot as plt\n",
    "import matplotlib\n",
    "from ipywidgets import interact\n",
    "import pandas as pd"
   ]
  },
  {
   "cell_type": "code",
   "execution_count": null,
   "metadata": {},
   "outputs": [],
   "source": [
    "#Defining the function to make the plot\n",
    "matplotlib.style.use('bmh')\n",
    "def make_plot(Drinker):\n",
    "    \n",
    "    ax = tab[Drinker].plot.bar(figsize=(12,5),color='dodgerblue')\n",
    "    ax.set_ylabel('Score',fontsize='large')\n",
    "    ax.set_ylim(0,5)\n",
    "    plt.suptitle(Drinker,fontsize='x-large',fontweight='heavy')"
   ]
  },
  {
   "cell_type": "code",
   "execution_count": null,
   "metadata": {},
   "outputs": [],
   "source": [
    "#Reading in the data and cleaning up a little\n",
    "tab = pd.read_csv('../data/SS2_beerScores.csv',index_col='Beer Name')\n",
    "\n",
    "del tab['Beer Letter']\n",
    "tab.sort_index(inplace=True)"
   ]
  },
  {
   "cell_type": "code",
   "execution_count": null,
   "metadata": {},
   "outputs": [],
   "source": [
    "#Launching interactive plot\n",
    "interact(make_plot,Drinker=tab.columns.tolist())"
   ]
  }
 ],
 "metadata": {
  "kernelspec": {
   "display_name": "Python 3",
   "language": "python",
   "name": "python3"
  },
  "language_info": {
   "codemirror_mode": {
    "name": "ipython",
    "version": 3
   },
   "file_extension": ".py",
   "mimetype": "text/x-python",
   "name": "python",
   "nbconvert_exporter": "python",
   "pygments_lexer": "ipython3",
   "version": "3.6.7"
  }
 },
 "nbformat": 4,
 "nbformat_minor": 2
}
