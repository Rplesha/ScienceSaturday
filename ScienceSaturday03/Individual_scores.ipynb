{
 "cells": [
  {
   "cell_type": "code",
   "execution_count": null,
   "metadata": {},
   "outputs": [],
   "source": [
    "#Imports\n",
    "import matplotlib.pyplot as plt\n",
    "from ipywidgets import interact\n",
    "import pandas as pd\n",
    "\n",
    "plt.xkcd()"
   ]
  },
  {
   "cell_type": "code",
   "execution_count": null,
   "metadata": {},
   "outputs": [],
   "source": [
    "#Reading in the data and cleaning up a little\n",
    "red = pd.read_csv('../data/SS3_red.csv',index_col='price')\n",
    "del red['Name']\n",
    "del red['Averages']\n",
    "red.sort_index(inplace=True)\n",
    "\n",
    "wht = pd.read_csv('../data/SS3_white.csv',index_col='price')\n",
    "del wht['Name']\n",
    "del wht['Averages']\n",
    "wht.sort_index(inplace=True)"
   ]
  },
  {
   "cell_type": "code",
   "execution_count": null,
   "metadata": {},
   "outputs": [],
   "source": [
    "ax = red.mean(axis=1).plot(yerr=red.std(axis=1),figsize=(12,5),marker='.',markersize=15,color='maroon',label='Red wine')\n",
    "ax = wht.mean(axis=1).plot(ax=ax,marker='.',yerr=wht.std(axis=1),markersize=15,color='goldenrod',label='White wine')\n",
    "ax.set_title('Average scores',fontsize='x-large')\n",
    "ax.set_xlabel('Price [$]',fontsize='medium')\n",
    "ax.set_ylabel('Rating',fontsize='medium')\n",
    "ax.set_ylim(0.5,5.5)\n",
    "ax.legend()\n",
    "plt.savefig('SS02_01.png',bbox_inches='tight')"
   ]
  },
  {
   "cell_type": "code",
   "execution_count": null,
   "metadata": {},
   "outputs": [],
   "source": [
    "#Defining the function to make the plot\n",
    "def make_plot(Drinker):\n",
    "    \n",
    "    ax = red[Drinker].plot(figsize=(12,5),style='.-',markersize=15,color='maroon',label='Red wine')\n",
    "    wht[Drinker].plot(style='.-',markersize=15,color='goldenrod',label='White wine')\n",
    "    \n",
    "    ax.set_ylabel('Score',fontsize='large')\n",
    "    ax.set_ylim(-0.99,5.5)\n",
    "    plt.suptitle(Drinker,fontsize='x-large',fontweight='heavy')\n",
    "    \n",
    "    ax.legend(loc='best')\n",
    "\n",
    "#Launching interactive plot\n",
    "htmlfig = interact(make_plot,Drinker=red.columns.tolist())\n"
   ]
  },
  {
   "cell_type": "code",
   "execution_count": null,
   "metadata": {},
   "outputs": [],
   "source": []
  }
 ],
 "metadata": {
  "kernelspec": {
   "display_name": "Python 3",
   "language": "python",
   "name": "python3"
  },
  "language_info": {
   "codemirror_mode": {
    "name": "ipython",
    "version": 3
   },
   "file_extension": ".py",
   "mimetype": "text/x-python",
   "name": "python",
   "nbconvert_exporter": "python",
   "pygments_lexer": "ipython3",
   "version": "3.7.8"
  }
 },
 "nbformat": 4,
 "nbformat_minor": 4
}
